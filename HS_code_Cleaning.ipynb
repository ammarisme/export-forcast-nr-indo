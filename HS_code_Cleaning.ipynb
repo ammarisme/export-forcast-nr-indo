{
  "nbformat": 4,
  "nbformat_minor": 0,
  "metadata": {
    "colab": {
      "name": "HS-code_Cleaning.ipynb",
      "provenance": [],
      "collapsed_sections": [],
      "include_colab_link": true
    },
    "kernelspec": {
      "name": "python3",
      "display_name": "Python 3"
    }
  },
  "cells": [
    {
      "cell_type": "markdown",
      "metadata": {
        "id": "view-in-github",
        "colab_type": "text"
      },
      "source": [
        "<a href=\"https://colab.research.google.com/github/ammarisme/export-forecast-NR/blob/master/HS_code_Cleaning.ipynb\" target=\"_parent\"><img src=\"https://colab.research.google.com/assets/colab-badge.svg\" alt=\"Open In Colab\"/></a>"
      ]
    },
    {
      "cell_type": "code",
      "metadata": {
        "id": "yQ-Ce_oZAeFm",
        "colab_type": "code",
        "outputId": "f76988a0-6ecf-439c-b3f0-0af39c81b061",
        "colab": {
          "base_uri": "https://localhost:8080/",
          "height": 34
        }
      },
      "source": [
        "!pip install pycountry\n",
        "import pandas as pd\n",
        "import numpy as np\n",
        "import seaborn as sns; sns.set()\n",
        "import matplotlib.pyplot as plt\n",
        "import os\n",
        "import pycountry\n",
        "import difflib\n",
        "\n",
        "from os import path"
      ],
      "execution_count": 31,
      "outputs": [
        {
          "output_type": "stream",
          "text": [
            "Requirement already satisfied: pycountry in /usr/local/lib/python3.6/dist-packages (19.8.18)\n"
          ],
          "name": "stdout"
        }
      ]
    },
    {
      "cell_type": "code",
      "metadata": {
        "id": "-o4WRgUnCC10",
        "colab_type": "code",
        "colab": {
          "base_uri": "https://localhost:8080/",
          "height": 34
        },
        "outputId": "ebaeeb36-59c1-401b-c394-0a5823109573"
      },
      "source": [
        "from google.colab import drive\n",
        "drive.flush_and_unmount()\n",
        "drive.mount('/content/drive')\n",
        "PATH = \"/content/drive/My Drive/rubber\"\n",
        "DATASET_TYPE = \"test\"\n",
        "TARGET_DIR = \"cleaned\"\n",
        "SOURCE_DIR = \"raw/4001\""
      ],
      "execution_count": 32,
      "outputs": [
        {
          "output_type": "stream",
          "text": [
            "Mounted at /content/drive\n"
          ],
          "name": "stdout"
        }
      ]
    },
    {
      "cell_type": "markdown",
      "metadata": {
        "id": "OIablbOXBWUn",
        "colab_type": "text"
      },
      "source": [
        "Get unique metric units from raw files."
      ]
    },
    {
      "cell_type": "code",
      "metadata": {
        "id": "6v-DDSyjm2Hd",
        "colab_type": "code",
        "outputId": "3645ef6b-f215-4be2-9079-3637b22aa219",
        "colab": {
          "base_uri": "https://localhost:8080/",
          "height": 71
        }
      },
      "source": [
        "def get_units(source_directory):\n",
        "  units  = []\n",
        "  print(source_directory)\n",
        "  for directory in os.listdir(source_directory):\n",
        "    for filename in os.listdir(source_directory+'/'+directory):\n",
        "      try:\n",
        "        file_data = pd.read_html(source_directory+'/'+directory+'/'+filename)\n",
        "        #print('success: ', filename)\n",
        "        first_line =file_data[0][0][0]\n",
        "        data_records = file_data[1]\n",
        "        for column in data_records.columns:\n",
        "          if \"Unit\" in data_records[column].unique():\n",
        "            my_units = data_records[column].unique()\n",
        "            my_units = filter(lambda unit: str(unit).startswith(\"20\") == False, my_units)\n",
        "            units.extend(my_units)\n",
        "            units = list(set(units))\n",
        "      except:\n",
        "        print(directory+'/'+filename)\n",
        "  return units\n",
        "\n",
        "unique_units = get_units(PATH+'/input_mix/'+DATASET_TYPE+'/raw')\n",
        "unique_units = [x for x in unique_units if str(x) != 'nan']\n",
        "print(unique_units)"
      ],
      "execution_count": 33,
      "outputs": [
        {
          "output_type": "stream",
          "text": [
            "/content/drive/My Drive/rubber/input_mix/test/raw\n",
            "['Gross', 'Kilograms air dried', 'Units', 'Kilograms', 'paire', 'Meters', 'Pair', 'Dozens pairs', 'Pairs', 'No Quantity', 'Unit', 'Pounds', 'kilogrammes', 'Square meters', 'Dozens', 'Tons', 'Mixed', 'Heads']\n"
          ],
          "name": "stdout"
        }
      ]
    },
    {
      "cell_type": "markdown",
      "metadata": {
        "id": "H988YkyFBOH_",
        "colab_type": "text"
      },
      "source": [
        "Assign weigth convertion ratios from different metrics to kilograms."
      ]
    },
    {
      "cell_type": "code",
      "metadata": {
        "id": "FW3CQcf_0mZo",
        "colab_type": "code",
        "colab": {}
      },
      "source": [
        "unit_weights =dict()\n",
        "for unit in unique_units:\n",
        "  unit_weights[unit]=0\n",
        "\n",
        "unit_weights['Pair'] = 0.1\n",
        "unit_weights['Dozens pairs'] = 0\n",
        "unit_weights['Pounds'] = 0.453592\n",
        "unit_weights['Mixed'] = 0\n",
        "unit_weights['Square meters'] = 1522\n",
        "unit_weights['Gross'] = 1\n",
        "unit_weights['Kilograms'] = 1\n",
        "unit_weights['No Quantity'] = 0\n",
        "unit_weights['Pairs'] = 0\n",
        "unit_weights['Pounds'] = 0.453592\n",
        "unit_weights['Units'] = 0\n",
        "unit_weights['Kilograms air dried'] = 1\n",
        "unit_weights['Heads'] = 0\n",
        "unit_weights['kilogrammes'] = 1\n",
        "\n",
        "unit_weights['Tons'] = 1000\n",
        "unit_weights['Pounds'] = 0.453592\n",
        "unit_weights['Unit'] = 0\n",
        "unit_weights['Heads'] = 0\n",
        "unit_weights['kilogrammes'] = 1\n",
        "unit_weights['Dozens'] = 0\n",
        "unit_weights['Meters'] = 0\n",
        "unit_weights['paire'] = 0"
      ],
      "execution_count": 0,
      "outputs": []
    },
    {
      "cell_type": "code",
      "metadata": {
        "id": "-uJOpH6b7CLK",
        "colab_type": "code",
        "colab": {}
      },
      "source": [
        "import pycountry\n",
        "import difflib\n",
        "\n",
        "def clean_directory_1(source_directory, target_directory,  hs=None):\n",
        "  final_data_records = pd.DataFrame({\n",
        "      'country': []\n",
        "  })\n",
        "  \n",
        "  all_countries = list()\n",
        "  for filename in os.listdir(source_directory):\n",
        "    file_data = pd.read_html(source_directory+'/'+filename)\n",
        "    data_records = file_data[1]\n",
        "    countries = data_records[0][2:]\n",
        "\n",
        "    for country in countries:\n",
        "      if country not in all_countries:\n",
        "        all_countries.append(country)\n",
        "\n",
        "  for country in all_countries:\n",
        "    if country not in final_data_records['country']:\n",
        "      temp_df = pd.DataFrame({\n",
        "          'country' : [country]\n",
        "      })\n",
        "      final_data_records = final_data_records.append(temp_df)\n",
        "    \n",
        "  for filename in os.listdir(source_directory):\n",
        "    print('cleanining: ',filename)\n",
        "    file_data = pd.read_html(source_directory+'/'+filename)\n",
        "    first_line =file_data[0][0][0]\n",
        "    my_country=\"\"\n",
        "    for country in pycountry.countries:\n",
        "        if country.name in first_line:\n",
        "            my_country = country.name\n",
        "    second_line = file_data[0][0][1]\n",
        "    hs_code = second_line.split()[1]\n",
        "    if hs != None and hs != hs_code:\n",
        "      print('skipping :', hs_code)\n",
        "      continue\n",
        "\n",
        "    \n",
        "    file_records = pd.DataFrame()\n",
        "    data_records = file_data[1]\n",
        "    data_records = data_records.fillna(0)\n",
        "    for unit_weight_key in unit_weights:\n",
        "          data_records = data_records.replace(to_replace =unit_weight_key, \n",
        "                 value =unit_weights[unit_weight_key]) \n",
        "    \n",
        "    for country in all_countries:    \n",
        "      country_records = data_records[data_records[0]==country]\n",
        "      if len(country_records) == 0:\n",
        "        continue\n",
        "      #update the dataframe. add the columns\n",
        "      for column in data_records.columns:\n",
        "        \n",
        "        prev_column_name = data_records[column][:1][0]#last column name\n",
        "        if column == 0:\n",
        "          continue\n",
        "        if column == 1:\n",
        "          #first column will be added anyway. if this is a double column, will be replaced in the next step.\n",
        "          final_data_records.loc[final_data_records['country']==country, prev_column_name] = int(country_records[column].values[0])\n",
        "          continue\n",
        "\n",
        "        if len(data_records.columns) > column+1:\n",
        "          current_column_name = data_records[column+1][:1][0]#current column name\n",
        "          if current_column_name == prev_column_name:\n",
        "            final_data_records.loc[final_data_records['country']==country, current_column_name] = int(country_records[column+1].values[0]) * int(country_records[column].values[0])\n",
        "          else:\n",
        "            final_data_records.loc[final_data_records['country']==country, current_column_name] = int(country_records[column+1].values[0])\n",
        "\n",
        "  sorted_columns = [final_data_records.columns[0]]\n",
        "  sorted_columns.extend(sorted(final_data_records.columns[1:]))\n",
        "  final_data_records = final_data_records[sorted_columns]\n",
        "\n",
        "  final_data_records =  final_data_records.fillna(0)\n",
        "\n",
        "  #final_data_records.to_csv(target_directory+'/'+hs_code+'-'+my_country+'_pca_cleaned.csv', index=False)\n",
        "#clean_directory_1(source_directory+'4004', PATH+'/input_mix/'+DATASET_TYPE+'/'+TARGET_DIR)"
      ],
      "execution_count": 0,
      "outputs": []
    },
    {
      "cell_type": "markdown",
      "metadata": {
        "id": "l6y4Z-HGAs80",
        "colab_type": "text"
      },
      "source": [
        "Check for duplicate columns in cleaned hs-code files."
      ]
    },
    {
      "cell_type": "code",
      "metadata": {
        "id": "yZ1Ri5BS64uj",
        "colab_type": "code",
        "colab": {}
      },
      "source": [
        "def country_duplicate_check():\n",
        "  close_matches =   [difflib.get_close_matches(country, all_countries) for country in all_countries]\n",
        "  #test against duplicate entries\n",
        "  for match in close_matches:\n",
        "    print(match)"
      ],
      "execution_count": 0,
      "outputs": []
    },
    {
      "cell_type": "markdown",
      "metadata": {
        "id": "-TylrR-vASbz",
        "colab_type": "text"
      },
      "source": [
        "Using above functions, traverse all the hs-code directories in **source_directory** and compile a cleaned file per *hs_code*"
      ]
    },
    {
      "cell_type": "code",
      "metadata": {
        "id": "jjlGsL4NJuZI",
        "colab_type": "code",
        "outputId": "fb1700e6-2e30-473e-ae5c-83c451e1cda2",
        "colab": {
          "base_uri": "https://localhost:8080/",
          "height": 54
        }
      },
      "source": [
        "source_directory = PATH+'/input_mix/'+DATASET_TYPE+'/raw/'\n",
        "target_directory = PATH+'/input_mix/'+DATASET_TYPE+'/'+TARGET_DIR\n",
        "\"\"\"\n",
        "for directory in os.listdir(source_directory):\n",
        "  try:\n",
        "    if directory == \"4001\":\n",
        "      clean_directory_1(source_directory+'/'+directory, target_directory)\n",
        "  except:\n",
        "    print('error:',directory)\n",
        "\"\"\""
      ],
      "execution_count": 37,
      "outputs": [
        {
          "output_type": "execute_result",
          "data": {
            "text/plain": [
              "'\\nfor directory in os.listdir(source_directory):\\n  try:\\n    if directory == \"4001\":\\n      clean_directory_1(source_directory+\\'/\\'+directory, target_directory)\\n  except:\\n    print(\\'error:\\',directory)\\n'"
            ]
          },
          "metadata": {
            "tags": []
          },
          "execution_count": 37
        }
      ]
    },
    {
      "cell_type": "markdown",
      "metadata": {
        "id": "e1-E2Bm4Bpfe",
        "colab_type": "text"
      },
      "source": [
        "Start combining all cleaned hs-code files into one.\n",
        "step 1: get all countries and months and prepare the dataframe to fit the whole dataset"
      ]
    },
    {
      "cell_type": "code",
      "metadata": {
        "id": "SnQK8BHtBosb",
        "colab_type": "code",
        "colab": {}
      },
      "source": [
        "def accumulate_all_hs_code_files():\n",
        "  #accumulate all the countries and months of available data\n",
        "  countries = []\n",
        "  months = []\n",
        "  hs_codes = []\n",
        "  for cleaned_filename in os.listdir(target_directory+'/hs-code-files/'):\n",
        "    try:\n",
        "      cleaned_file = pd.read_csv(target_directory+'/hs-code-files/'+cleaned_filename)\n",
        "      \n",
        "      hs_code = cleaned_filename.split('-')[0]\n",
        "      hs_codes.append(hs_code)\n",
        "      #print(hs_code)\n",
        "      if hs_code == \"4001\":\n",
        "        #print(cleaned_file)\n",
        "        c = cleaned_file[cleaned_file['country']=='China'].values[:].tolist()[0][1:]\n",
        "        plt.plot(c)\n",
        "        #break\n",
        "      #else:\n",
        "        #continue\n",
        "\n",
        "      countries_temp = cleaned_file['country'].unique()\n",
        "      countries_temp = [country for country in countries_temp if country!=\"World\"] \n",
        "      countries.extend(countries_temp)\n",
        "\n",
        "      months_temp = cleaned_file.columns\n",
        "      months_temp = [month for month in months_temp if month!=\"country\"] \n",
        "      months.extend(months_temp)\n",
        "    except:\n",
        "      print('error:',cleaned_filename)\n",
        "\n",
        "  months = list(set(months))\n",
        "  countries = list(set(countries))\n",
        "\n",
        "  #add a country entry per each hs code\n",
        "  my_countries = []\n",
        "  for code in hs_codes:\n",
        "    my_countries.extend([country+'_'+code for country in countries])\n",
        "  countries = my_countries\n",
        "  print(countries)\n",
        "  df_columns = ['month']\n",
        "  df_columns.extend(countries)\n",
        "  processed_data = pd.DataFrame(columns=df_columns)\n",
        "\n",
        "  processed_data['month'] = sorted(months)\n",
        "\n",
        "  sorted_columns = [processed_data.columns[0]]\n",
        "  sorted_columns.extend(sorted(processed_data.columns[1:]))\n",
        "  processed_data = processed_data[sorted_columns]\n",
        "  print('number of months :',len(processed_data))\n",
        "  print('number of columns (countries+hscodes) :',len(processed_data.columns))\n",
        "  return processed_data"
      ],
      "execution_count": 0,
      "outputs": []
    },
    {
      "cell_type": "markdown",
      "metadata": {
        "id": "A_dMFziUSiY8",
        "colab_type": "text"
      },
      "source": [
        "Combine all the hs-code files into one **cleaned/all-hs-codes-combined.csv**"
      ]
    },
    {
      "cell_type": "code",
      "metadata": {
        "id": "rUEP5HG3FDb_",
        "colab_type": "code",
        "colab": {}
      },
      "source": [
        "#accumulate all the countries and months of available data\n",
        "def convert_to_monthly_data():\n",
        "  for cleaned_filename in os.listdir(target_directory+'/hs-code-files'):\n",
        "    #try:\n",
        "    hs_code = cleaned_filename.split('-')[0]\n",
        "    print('hs code processing : ', hs_code)\n",
        "    print(target_directory+'/hs-code-files'+cleaned_filename)\n",
        "    cleaned_file = pd.read_csv(target_directory+'/hs-code-files/'+cleaned_filename)\n",
        "    countries_temp = cleaned_file['country']\n",
        "    update_countries = [country+'_'+hs_code for country in countries_temp if country!=\"World\"] \n",
        "    months = cleaned_file.columns\n",
        "    #else:\n",
        "    #  continue\n",
        "    for month in cleaned_file.columns:\n",
        "      #print(month)\n",
        "      if month == \"country\":\n",
        "        continue\n",
        "      processed_data.loc[processed_data['month']==month,update_countries] = cleaned_file.loc[:, cleaned_file.columns == month ].to_numpy().squeeze().tolist()\n",
        "    \n",
        "  processed_data = processed_data.fillna(0)\n",
        "\n",
        "  return processed_data\n",
        "  #processed_data.to_csv(target_directory+'/all_hs_codes_combined.csv')\n"
      ],
      "execution_count": 0,
      "outputs": []
    },
    {
      "cell_type": "code",
      "metadata": {
        "id": "7wPt5krnMae8",
        "colab_type": "code",
        "outputId": "b15554bc-4dbb-4aba-f09f-bb61546773f1",
        "colab": {
          "base_uri": "https://localhost:8080/",
          "height": 296
        }
      },
      "source": [
        "processed_data['China_4001'].plot()"
      ],
      "execution_count": 40,
      "outputs": [
        {
          "output_type": "execute_result",
          "data": {
            "text/plain": [
              "<matplotlib.axes._subplots.AxesSubplot at 0x7ff011f5cc18>"
            ]
          },
          "metadata": {
            "tags": []
          },
          "execution_count": 40
        },
        {
          "output_type": "display_data",
          "data": {
            "image/png": "[encoded data removed]",
            "text/plain": [
              "<Figure size 432x288 with 1 Axes>"
            ]
          },
          "metadata": {
            "tags": []
          }
        }
      ]
    },
    {
      "cell_type": "code",
      "metadata": {
        "id": "EM-3xdUc6YPY",
        "colab_type": "code",
        "colab": {}
      },
      "source": [
        "#target variable creation\n",
        "def create_target_variable(processed_data):\n",
        "  target = np.zeros(len(processed_data))\n",
        "  for column in processed_data.columns:\n",
        "    if \"4001\" in column or \"4003\" in column:\n",
        "      target += processed_data[column]\n",
        "\n",
        "  processed_data['target'] = target\n",
        "  print(processed_data['target'])\n",
        "  processed_data['target'].plot()\n",
        "\n",
        "  processed_data = create_target_variable(processed_data)\n",
        "  \n",
        "  return processed_data\n",
        "processed_data.to_csv(target_directory+'/all_hs_codes_combined.csv', index=False)"
      ],
      "execution_count": 0,
      "outputs": []
    },
    {
      "cell_type": "markdown",
      "metadata": {
        "id": "WIw85Hudw6Wx",
        "colab_type": "text"
      },
      "source": [
        "PCA"
      ]
    },
    {
      "cell_type": "code",
      "metadata": {
        "id": "hO6XTH-Gw50B",
        "colab_type": "code",
        "colab": {
          "base_uri": "https://localhost:8080/",
          "height": 34
        },
        "outputId": "32c5941a-9c61-4d26-e666-aef328c6e876"
      },
      "source": [
        "from sklearn.preprocessing import StandardScaler\n",
        "from sklearn.decomposition import PCA\n",
        "\n",
        "def normalize(processed_data):\n",
        "\n",
        "  return processed_data\n",
        "def pca_extract(processed_data):\n",
        "  features = [ column for column in processed_data.columns if column != \"month\"]\n",
        "\n",
        "  # Separating out the features\n",
        "  x = processed_data.loc[:, features].values\n",
        "  y = processed_data.loc[:,['target']].values\n",
        "\n",
        "  x = StandardScaler().fit_transform(x)\n",
        "  y = StandardScaler().fit_transform(y)\n",
        "  \n",
        "  pca = PCA(n_components=12)\n",
        "\n",
        "  principalComponents = pca.fit_transform(x)\n",
        "  principal_columns = ['pc '+str(1+i) for i in range(12)]\n",
        "  principalDf = pd.DataFrame(data = principalComponents\n",
        "              , columns =principal_columns )\n",
        "  principalDf['target'] = y\n",
        "  final_columns = ['target']\n",
        "  final_columns.extend([col for col in principalDf.columns if col != 'target' ])\n",
        "  principalDf = principalDf[final_columns]\n",
        "  return principalDf\n",
        "\n",
        "principalDf = pca_extract(processed_data)\n",
        "print(target_directory+'/pca_hs_codes_12.csv')\n",
        "principalDf.to_csv(target_directory+'/pca_hs_codes_12.csv', index=False)"
      ],
      "execution_count": 44,
      "outputs": [
        {
          "output_type": "stream",
          "text": [
            "/content/drive/My Drive/rubber/input_mix/test/cleaned/pca_hs_codes_12.csv\n"
          ],
          "name": "stdout"
        }
      ]
    },
    {
      "cell_type": "code",
      "metadata": {
        "id": "RPyerkUJYaXw",
        "colab_type": "code",
        "colab": {
          "base_uri": "https://localhost:8080/",
          "height": 285
        },
        "outputId": "f89ddf95-e373-4cff-e14e-c6f566dc87a4"
      },
      "source": [
        "principalDf[principalDf.columns].plot()"
      ],
      "execution_count": 52,
      "outputs": [
        {
          "output_type": "execute_result",
          "data": {
            "text/plain": [
              "<matplotlib.axes._subplots.AxesSubplot at 0x7ff011bfe198>"
            ]
          },
          "metadata": {
            "tags": []
          },
          "execution_count": 52
        },
        {
          "output_type": "display_data",
          "data": {
            "image/png": "[encoded data removed]",
            "text/plain": [
              "<Figure size 432x288 with 1 Axes>"
            ]
          },
          "metadata": {
            "tags": []
          }
        }
      ]
    },
    {
      "cell_type": "code",
      "metadata": {
        "id": "Bvjf5N9Ejqa2",
        "colab_type": "code",
        "colab": {}
      },
      "source": [
        ""
      ],
      "execution_count": 0,
      "outputs": []
    }
  ]
}