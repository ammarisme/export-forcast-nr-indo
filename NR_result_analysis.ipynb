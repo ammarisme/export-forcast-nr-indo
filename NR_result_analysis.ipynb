{
  "nbformat": 4,
  "nbformat_minor": 0,
  "metadata": {
    "kernelspec": {
      "display_name": "Python 3",
      "language": "python",
      "name": "python3"
    },
    "language_info": {
      "codemirror_mode": {
        "name": "ipython",
        "version": 3
      },
      "file_extension": ".py",
      "mimetype": "text/x-python",
      "name": "python",
      "nbconvert_exporter": "python",
      "pygments_lexer": "ipython3",
      "version": "3.6.8"
    },
    "colab": {
      "name": "NR-result-analysis.ipynb",
      "provenance": [],
      "collapsed_sections": [],
      "machine_shape": "hm"
    }
  },
  "cells": [
    {
      "cell_type": "code",
      "metadata": {
        "id": "anKz91FjrQn3",
        "colab_type": "code",
        "colab": {}
      },
      "source": [
        "!pip install torch-geometric \\\n",
        "  torch-sparse==latest+cu101 \\\n",
        "  torch-scatter==latest+cu101 \\\n",
        "  torch-cluster==latest+cu101 \\\n",
        "  -f https://pytorch-geometric.com/whl/torch-1.5.0.html"
      ],
      "execution_count": 0,
      "outputs": []
    },
    {
      "cell_type": "code",
      "metadata": {
        "id": "fTIolEehGv3I",
        "colab_type": "code",
        "outputId": "9d449497-8c66-4199-afeb-cb774fac9ed9",
        "colab": {
          "base_uri": "https://localhost:8080/",
          "height": 34
        }
      },
      "source": [
        "from __future__ import unicode_literals, print_function, division\n",
        "from io import open\n",
        "import unicodedata\n",
        "import string\n",
        "import re\n",
        "import random\n",
        "from functools import reduce\n",
        "import os\n",
        "\n",
        "import torch\n",
        "import torch.nn as nn\n",
        "import torch.nn.functional as F\n",
        "from torch_geometric.data import Data, DataLoader, InMemoryDataset\n",
        "\n",
        "import numpy as np\n",
        "import pandas as pd\n",
        "\n",
        "from os import listdir\n",
        "from os.path import isfile, join\n",
        "\n",
        "import matplotlib.pyplot as plt\n",
        "from matplotlib.pyplot import ylim\n",
        "\n",
        "device = torch.device(\"cuda\" if torch.cuda.is_available() else \"cpu\")\n",
        "print('running on '+ (\"GPU\" if torch.cuda.is_available() else \"CPU\"))"
      ],
      "execution_count": 0,
      "outputs": [
        {
          "output_type": "stream",
          "text": [
            "running on CPU\n"
          ],
          "name": "stdout"
        }
      ]
    },
    {
      "cell_type": "code",
      "metadata": {
        "id": "bFsXKb1CzwSY",
        "colab_type": "code",
        "outputId": "a43896c7-8221-4b80-f92e-55ba16c72297",
        "colab": {
          "base_uri": "https://localhost:8080/",
          "height": 34
        }
      },
      "source": [
        "from google.colab import drive\n",
        "drive.mount('/content/drive')\n",
        "PATH = '/content/drive/My Drive/rubber'"
      ],
      "execution_count": 0,
      "outputs": [
        {
          "output_type": "stream",
          "text": [
            "Drive already mounted at /content/drive; to attempt to forcibly remount, call drive.mount(\"/content/drive\", force_remount=True).\n"
          ],
          "name": "stdout"
        }
      ]
    },
    {
      "cell_type": "code",
      "metadata": {
        "id": "i3KymLSjN91m",
        "colab_type": "code",
        "colab": {}
      },
      "source": [
        "def loss_file_search(mypath):\n",
        "  losses_files = [f for f in listdir(mypath) if (\"losses\" in f)]\n",
        "  for loss_file in losses_files:\n",
        "    losses = np.load(join(mypath, loss_file), allow_pickle=True)\n",
        "    training_loss = np.array(losses.tolist()['losses']).T[0]\n",
        "    plt.plot(training_loss)\n",
        "    #loss_analysis(losses)\n",
        "  \n",
        "  directories = [f for f in listdir(mypath) if os.path.isdir(join(mypath, f))]\n",
        "  for directory in directories:\n",
        "    loss_file_search(mypath+'/'+directory)"
      ],
      "execution_count": 0,
      "outputs": []
    },
    {
      "cell_type": "code",
      "metadata": {
        "id": "MlSW4je3USF9",
        "colab_type": "code",
        "outputId": "c550dcda-fcef-4aef-b11f-531e84c30d85",
        "colab": {
          "base_uri": "https://localhost:8080/",
          "height": 265
        }
      },
      "source": [
        "root = PATH+'/models_rnn/kkk'\n",
        "#ylim(top=5.08, bottom=5.07)#, ylim_bottom=5.0\n",
        "loss_file_search(root)"
      ],
      "execution_count": 0,
      "outputs": [
        {
          "output_type": "display_data",
          "data": {
            "image/png": "[encoded data removed]",
            "text/plain": [
              "<Figure size 432x288 with 1 Axes>"
            ]
          },
          "metadata": {
            "tags": [],
            "needs_background": "light"
          }
        }
      ]
    },
    {
      "cell_type": "code",
      "metadata": {
        "id": "83UftElCxi27",
        "colab_type": "code",
        "colab": {}
      },
      "source": [
        "def get_all_directories(mypath):  \n",
        "  directories= [f for f in listdir('/'+mypath) if os.path.isdir(join(mypath, f))]\n",
        "  for directory in directories:\n",
        "    get_all_directories(directory)\n",
        "    #loss_file_search(mypath+'/'+directory)\n",
        "\n",
        "#get_all_directories(PATH)"
      ],
      "execution_count": 0,
      "outputs": []
    },
    {
      "cell_type": "code",
      "metadata": {
        "id": "AtNJT5sQRI7F",
        "colab_type": "code",
        "colab": {}
      },
      "source": [
        "def loss_analysis(losses):\n",
        " print('loss analysis') "
      ],
      "execution_count": 0,
      "outputs": []
    },
    {
      "cell_type": "code",
      "metadata": {
        "id": "DKAxVVWnFW5J",
        "colab_type": "code",
        "colab": {}
      },
      "source": [
        "import torch\n",
        "import torch.nn as nn\n",
        "from torch import optim\n",
        "\n",
        "class RNNModel(nn.Module):\n",
        "    def __init__(self, input_size, parameter_sizes, repeats ,output_size):\n",
        "        super(RNNModel, self).__init__()\n",
        "        self.input_size = input_size\n",
        "        self.repeater_input_size = parameter_sizes[0]\n",
        "        self.hidden_size = parameter_sizes[1]\n",
        "        self.repeats = repeats\n",
        "        self.output_size = output_size\n",
        "\n",
        "        self.fc1 = nn.Linear(input_size, self.repeater_input_size)\n",
        "        self.relu_activation = nn.ReLU()\n",
        "\n",
        "        self.layers = dict()\n",
        "\n",
        "        \n",
        "        k = 0\n",
        "        for i in range(repeats):\n",
        "          i = i+k\n",
        "          self.layers['fc_'+str(i)] = nn.Linear(self.repeater_input_size, self.hidden_size)\n",
        "          self.layers['gru_'+str(i+1)] = nn.GRU(self.hidden_size, self.hidden_size)\n",
        "          self.layers['fc_'+str(i+2)] = nn.Linear(self.hidden_size, self.repeater_input_size)\n",
        "          k+=2\n",
        "\n",
        "        self.module_list = nn.ModuleDict(self.layers)\n",
        "\n",
        "        self.fc2 = nn.Linear(self.repeater_input_size, output_size)\n",
        "        \n",
        "    def forward(self, input, hidden):\n",
        "      output = self.fc1(input)\n",
        "      output = self.relu_activation(output)\n",
        "\n",
        "      k = 0\n",
        "      for i in range(self.repeats):\n",
        "        i = i+k\n",
        "        output = self.layers['fc_'+str(i)](output)\n",
        "        output = self.relu_activation(output)\n",
        "\n",
        "        output, hidden[i-k] = self.layers['gru_'+str(i+1)](output, hidden[i-k])#should be different. check the nlp page\n",
        "        output = self.relu_activation(output)\n",
        "        hidden[i-k] = self.relu_activation(hidden[i-k])\n",
        "\n",
        "        output = self.layers['fc_'+str(i+2)](output)\n",
        "        output = self.relu_activation(output)\n",
        "        k +=2\n",
        "\n",
        "      output = self.fc2(output)\n",
        "      #output = self.relu_activation(output)\n",
        "\n",
        "      return output, hidden\n",
        "\n",
        "    def initHidden(self, batch_size):\n",
        "        return torch.zeros(1, batch_size, self.hidden_size, device=device)"
      ],
      "execution_count": 0,
      "outputs": []
    },
    {
      "cell_type": "code",
      "metadata": {
        "id": "2Ud6pUfxGatj",
        "colab_type": "code",
        "outputId": "f4691c57-e3ed-4016-9f28-8877d4f1d4f6",
        "colab": {
          "base_uri": "https://localhost:8080/",
          "height": 34
        }
      },
      "source": [
        "class Seq2SeqDataSet(InMemoryDataset):\n",
        "    def __init__(self, root, input_sequence, output_sequence, transform=None, pre_transform=None):\n",
        "        super(Seq2SeqDataSet, self).__init__(root, transform, pre_transform)\n",
        "        self.data, self.slices = torch.load(self.processed_paths[0])\n",
        "\n",
        "    @property\n",
        "    def raw_dir(self):\n",
        "      if os.path.exists(self.root+PROCESSED_DIR):\n",
        "        return self.root+CLEANED_DIR #'/cleaned'\n",
        "      else:\n",
        "        os.mkdir(self.root+PROCESSED_DIR)\n",
        "        return self.root+CLEANED_DIR#'/cleaned'\n",
        "        \n",
        "    @property\n",
        "    def processed_dir(self):\n",
        "      if os.path.exists(self.root+PROCESSED_DIR):\n",
        "        return self.root+PROCESSED_DIR\n",
        "      else:\n",
        "        os.mkdir(self.root+PROCESSED_DIR)\n",
        "        return self.root+PROCESSED_DIR\n",
        "\n",
        "    @property\n",
        "    def raw_file_names(self):\n",
        "      mypath = self.raw_dir\n",
        "      filenames = [f for f in listdir(mypath) if isfile(join(mypath, f))]\n",
        "      return filenames\n",
        "\n",
        "    @property\n",
        "    def processed_file_names(self):\n",
        "        return ['processed.dt']\n",
        "\n",
        "    def download(self):\n",
        "        pass\n",
        "    \n",
        "    def process(self):\n",
        "      output_size , output_sequence_len, input_sequence_len= configuration['output_size'],\\\n",
        "      configuration['output_sequence_len'],\\\n",
        "      configuration['input_sequence_len'],\n",
        "        \n",
        "      data_list = []\n",
        "\n",
        "      for raw_path in self.raw_paths:\n",
        "        print(raw_path)\n",
        "        df = pd.read_csv(raw_path)\n",
        "        for synthetic_seq in df['synthesis_seq'].unique():\n",
        "          synthetic_data = df[df['synthesis_seq']==synthetic_seq]\n",
        "\n",
        "          for country in synthetic_data['countryterritoryCode'].unique():\n",
        "            country_data = synthetic_data[synthetic_data['countryterritoryCode'] == country]\n",
        "                        \n",
        "            del country_data['synthesis_seq']\n",
        "            del country_data['countryterritoryCode']\n",
        "\n",
        "            country_data_i = country_data[:-output_sequence_len]\n",
        "            country_data_array = country_data_i.to_numpy()\n",
        "            feature_length = len(country_data.columns)\n",
        "            x = country_data_array#[:feature_length].T\n",
        "\n",
        "            country_data_o = country_data[input_sequence_len:]\n",
        "            #country_data_array = country_data_array.reshape(feature_length,len(country_data_i))\n",
        "            country_data_array_y = np.array([country_data_o['NATURAL_RUBBER_EXPORT'].to_numpy()])\n",
        "            country_data_array_y = country_data_array_y.reshape(output_size,len(country_data_o))\n",
        "            y = country_data_array_y[:output_size].T\n",
        "\n",
        "            #print(country_data_array.shape)\n",
        "            #print(country_data_array[0])\n",
        "            \n",
        "            \n",
        "            #print(x.shape)\n",
        "            sets =0\n",
        "            x_list = []\n",
        "            dict_x = dict()\n",
        "            for i in range(input_sequence_len):\n",
        "              array_len = (len(x)-i) - ((len(x)  - i)%input_sequence_len)+i\n",
        "              if array_len <= 0:\n",
        "                print('skipping')\n",
        "                continue\n",
        "              sets = int( array_len/ input_sequence_len)\n",
        "              if sets <= 0:\n",
        "                print('skipping')\n",
        "                continue\n",
        "              #print(len(x))\n",
        "              #print('input seq : ', i , ' ', array_len , ' ',array_len-i , ' number of sets : ', sets)\n",
        "              x_temp = x[i:array_len].T.reshape(sets, feature_length, input_sequence_len)\n",
        "              uniq_keys = np.array([i+k*input_sequence_len for k in range(sets)])\n",
        "              x_temp = x_temp.reshape(feature_length,sets,input_sequence_len)\n",
        "              arrays_split = np.hsplit(x_temp,sets)\n",
        "              dict_x.update(dict(zip(uniq_keys, arrays_split)))\n",
        "\n",
        "            dict_y = dict()\n",
        "            y_list = []\n",
        "            for i in range(output_sequence_len):\n",
        "              array_len_y = (len(y)-i) - ((len(y)  - i)%output_sequence_len)+i\n",
        "              if array_len_y <= 0:\n",
        "                continue\n",
        "              sets = int(array_len_y / output_sequence_len)\n",
        "              if sets <= 0:\n",
        "                continue\n",
        "              y_temp = y[i:array_len_y].T.reshape(sets, output_size, output_sequence_len)\n",
        "              #uniq_keys = np.array([i+(output_sequence_len*k) for k in range(output_sequence_len)])\n",
        "              uniq_keys = np.array([i+k*output_sequence_len for k in range(sets)])\n",
        "              y_temp = y_temp.reshape(output_size,sets,output_sequence_len)\n",
        "              arrays_split = np.hsplit(y_temp,sets)\n",
        "              dict_y.update(dict(zip(uniq_keys, arrays_split)))\n",
        "\n",
        "            temp_x_list = []\n",
        "            mean = np.mean(country_data.to_numpy(), axis=0).T\n",
        "            std = np.std(country_data.to_numpy(), axis=0).T\n",
        "            #print(sorted(dict_x.keys()))\n",
        "            for i in sorted(dict_x.keys()):\n",
        "              x = dict_x[i].squeeze()\n",
        "              #print(x.T[0][12])\n",
        "              x = (x.T - mean) / std\n",
        "              where_are_NaNs = isnan(x)\n",
        "              x[where_are_NaNs] = 0\n",
        "              temp_x_list.append(x)\n",
        "\n",
        "            temp_y_list  = [dict_y[i].T for i in sorted(dict_y.keys())]\n",
        "\n",
        "            #_country_code,popData2018\n",
        "            xy_list = [Data(x = torch.from_numpy(features).type(torch.FloatTensor).squeeze()) for features in temp_x_list]\n",
        "            \n",
        "            mean_y = np.mean(y)\n",
        "            std_y = np.std(y)\n",
        "            for i in sorted(dict_y.keys()):\n",
        "              temp_y_list[i] = temp_y_list[i].squeeze()\n",
        "              norm_y = (temp_y_list[i] -mean_y)/std_y\n",
        "              xy_list[i].y = torch.from_numpy(norm_y).squeeze()\n",
        "\n",
        "            data_list += xy_list\n",
        "        print('processed : '+ raw_path)\n",
        "      data, slices = self.collate(data_list)\n",
        "      torch.save((data, slices), self.processed_paths[0])\n",
        "\n",
        "configuration = {\n",
        "    'input_sequence_len' : 6,\n",
        "    'output_sequence_len' : 6,\n",
        "    'training_batch_size' : 2048,\n",
        "    'training_dataset_length' :32768,\n",
        "    'validation_batch_size' : 1024,\n",
        "    'yhat_size' : 1,\n",
        "    'feature_len' : 21,\n",
        "    'output_size' : 1,\n",
        "}\n",
        "\n",
        "INPUT_ROOT = PATH+'/input_mix'\n",
        "CLEANED_DIR = '/cleaned'\n",
        "PROCESSED_DIR = '/processed_seq2seq_6_6'\n",
        "\n",
        "validation_dataset = Seq2SeqDataSet(INPUT_ROOT+'/validation', configuration['input_sequence_len'], configuration['output_sequence_len'])\n",
        "validation_dataloader = DataLoader(validation_dataset,batch_size=configuration['validation_batch_size'])\n",
        "print(len(validation_dataloader))"
      ],
      "execution_count": 0,
      "outputs": [
        {
          "output_type": "stream",
          "text": [
            "1\n"
          ],
          "name": "stdout"
        }
      ]
    },
    {
      "cell_type": "code",
      "metadata": {
        "id": "azOa83FIFB0H",
        "colab_type": "code",
        "colab": {}
      },
      "source": [
        "def get_latest_model(mypath):\n",
        "  fnames= []\n",
        "  for fname in listdir(mypath):\n",
        "    if \"cleaned_non_window\" in fname:\n",
        "      fnames.append(int(fname.split('_')[0]))\n",
        "  print('Model path: ', mypath+'/'+str(min(fnames))+'_cleaned_non_window.model')\n",
        "  model = torch.load(mypath+'/'+str(min(fnames))+'_cleaned_non_window.model', map_location=torch.device('cpu'))\n",
        "  return model"
      ],
      "execution_count": 0,
      "outputs": []
    },
    {
      "cell_type": "code",
      "metadata": {
        "id": "cyQPo8x6FNYL",
        "colab_type": "code",
        "colab": {}
      },
      "source": [
        "def evaluate_rnn(input_tensor, rnn_model, batch_size):\n",
        "  with torch.no_grad():\n",
        "    input_tensor = input_tensor.type(torch.FloatTensor)\n",
        "\n",
        "    rnn_model_hidden = []\n",
        "    for i in range(rnn_model.repeats):\n",
        "      rnn_model_hidden.append(rnn_model.initHidden(batch_size))\n",
        "\n",
        "    validation_loss = 0\n",
        "    \n",
        "    outputs= []\n",
        "    for ei in range(configuration['output_sequence_len']):\n",
        "      input_tensor_seq = input_tensor.view(configuration['input_sequence_len'],batch_size, configuration['feature_len'])[ei]\n",
        "      input_tensor_seq = input_tensor_seq.view(1, batch_size, configuration['feature_len']).to(device)\n",
        "\n",
        "      rnn_model_output, rnn_model_hidden = rnn_model(\n",
        "          input_tensor_seq, rnn_model_hidden)\n",
        "      outputs.append(rnn_model_output.detach().numpy().squeeze().tolist())\n",
        "  return outputs\n",
        "\n",
        "def batch_evaluate(dataloader, rnn_model, output_sequence_len):\n",
        "  for batch in dataloader:\n",
        "    print('predicting...')\n",
        "    batch_size = int(len(batch.x)/configuration['input_sequence_len'])\n",
        "    return evaluate_rnn(batch.x.view(batch_size, configuration['input_sequence_len'] , configuration['feature_len']), rnn_model, batch_size)"
      ],
      "execution_count": 0,
      "outputs": []
    },
    {
      "cell_type": "code",
      "metadata": {
        "id": "Uzt3cXPdH3IY",
        "colab_type": "code",
        "outputId": "5c88ddb0-6b64-4eea-8ce4-199aced6007d",
        "colab": {
          "base_uri": "https://localhost:8080/",
          "height": 51
        }
      },
      "source": [
        "latest_model = get_latest_model(PATH+'/models_rnn/k2')\n",
        "outputs = batch_evaluate(validation_dataloader,latest_model, configuration['output_sequence_len'])"
      ],
      "execution_count": 0,
      "outputs": [
        {
          "output_type": "stream",
          "text": [
            "Model path:  /content/drive/My Drive/rubber/models_rnn/k2/800000_cleaned_non_window.model\n",
            "predicting...\n"
          ],
          "name": "stdout"
        }
      ]
    },
    {
      "cell_type": "code",
      "metadata": {
        "id": "AWwSIInFPcAL",
        "colab_type": "code",
        "outputId": "89e0fcac-fdd1-4299-98ea-6d9c034c2dbe",
        "colab": {
          "base_uri": "https://localhost:8080/",
          "height": 54
        }
      },
      "source": [
        "input_data = []\n",
        "for data in validation_dataset:\n",
        "  input_data.append(data.y.detach().numpy()[0])\n",
        "print(input_data)"
      ],
      "execution_count": 0,
      "outputs": [
        {
          "output_type": "stream",
          "text": [
            "[-0.0018711534661987712, -0.1589334560617926, -0.9891727048627432, -0.5587091216231713, -0.1297657282030271, 0.33367219752371025, -1.0057905792810762, 0.5201486028753076, -0.16435269723056403, -0.4282672861178002, -0.06247404336328111, -0.4032389115304835, 0.03905774632210801, -0.452295901367925, 0.18959089605062834, -1.4759960473131106, -2.274945415746048, -2.7056028644569863, -3.1527246855904973, -2.5009628950825404, -0.920217695883589, -1.3039194041530306, -0.8904957167749972, -1.5425474666812833, -0.5353592368369205, -1.4098809426887322, -1.7652781579293333, -0.9730299317034176, -2.1117958111647273, -1.3463408130730052, -2.4837912391472643, -1.2566789049272693, -0.13533169379310064, -0.453466542817555, -0.3620846070629387, -0.21154602185391277, 0.2892801249493199, -0.5107843557959838, -0.6830708688978073, 0.3927584205979888, -0.41613237457497637, -0.5168912859057588, -0.14105270478697876, -0.46801068076595864, 0.2616449006219917, 0.9285962420598681, 0.5060132667446825, -0.018543315584889922, 0.9247002439742652, 0.349653952961145, -0.35136325597505647, 0.868884032814029, -1.0611536324184203, -1.2296963073364486, -1.2313540617859562, -0.928562097925437, -0.20428740737157974, -0.2863846365092297, 0.7875513610484833, 0.7674223339852829, -0.14735363457751505, -0.19047605272096685, -0.3889769823878362, -0.3375796491169011, -0.293049508627199, -0.7035930623842455, -0.4042029040638546, -0.33149043464729244, 0.611579994792055, 0.405474559479074, 0.8803842345746042, 0.1506748687715277, 1.5736115275852256, -0.1494642450787754, 0.519233328352394, 1.2851214872671233, 0.5268843711062912, 0.461872937443338, 0.32442983397092945, 0.6871661222262858, 0.743784502941631, 1.0709515100536346, 0.37970749638057777, -0.07535452164878842, -0.13462186030188908, 0.10303318411116531, 0.7037196767919691, 0.10243403981864475, -1.0114986055159687, -0.05866031563693571, -0.7513735866639419, -0.5163335116593086, 0.1670198283847218, 1.3763452572494965, -0.052769227786990704, 1.229574802124797, 0.12076838529688504, 1.3987426579580147, 0.5493442127359259, 0.1525672547961932, -0.7878222413169925, 0.15186399756534644, -0.9157482546046464, -0.14459740978064622, -0.39671559677210116, 0.24026433739620467, -0.2919504678899081, 0.49770057167245046, -0.9233876211411611, 0.6458337889960085, 0.7686881970008071, 0.7783689890953568, 0.0799256143879477, 0.9544428242250201, 1.1328989767765258, 0.833968183663555, 2.3611391060967333, 1.5820309526789902, 1.8624404130738588, -0.3115123260489942, 1.7242624460580338, 2.133865024192986, 1.51923434311267, 1.2309675936758313, 0.775603369640824, 0.4042502678237129, 0.6059680289317767, 0.5869168710737744, 1.0167484958236996, 1.9110021366906642, 1.4807684876974183, -0.753062947426019, 2.268379477348043]\n"
          ],
          "name": "stdout"
        }
      ]
    },
    {
      "cell_type": "code",
      "metadata": {
        "id": "NosQvGAcIosQ",
        "colab_type": "code",
        "outputId": "be564510-aac6-4091-93ea-eddd2b245d4e",
        "colab": {
          "base_uri": "https://localhost:8080/",
          "height": 54
        }
      },
      "source": [
        "#convert the outputs for  further processing\n",
        "k = 0\n",
        "input_dicts = []\n",
        "inputs = []\n",
        "for output in outputs:\n",
        "  keys = [i for i in range(k, k+len(output))]\n",
        "  values = output\n",
        "  d = dict(zip(keys, values))\n",
        "  input_dicts.append(d)\n",
        "  k+=1\n",
        "\n",
        "processed =[]\n",
        "for j in range(max(input_dicts[-1:][0].keys())+1):\n",
        "  regressors = []\n",
        "  for input_dict in input_dicts:\n",
        "    if j in input_dict.keys():\n",
        "      regressors.append(input_dict[j])\n",
        "    else:\n",
        "      regressors.append(0)  \n",
        "      #print('key doesnt exist')\n",
        "  processed.append(regressors)\n",
        "print(processed)\n",
        "    \n",
        "#for j in range(0, len(outputs[0])+k):\n"
      ],
      "execution_count": 0,
      "outputs": [
        {
          "output_type": "stream",
          "text": [
            "[[-0.009410828351974487, 0, 0, 0, 0, 0], [-0.15915153920650482, -1.5550408363342285, 0, 0, 0, 0], [-0.9971407651901245, -0.5330331325531006, 0.5093228816986084, 0, 0, 0], [-0.5564706921577454, -1.4154393672943115, -0.018265563994646072, 0.40463918447494507, 0, 0], [-0.1309358775615692, -1.7657244205474854, 0.929038941860199, 0.9016724824905396, 0.15889406204223633, 0], [0.327928751707077, -0.9804721474647522, 0.34327197074890137, 0.14637300372123718, 1.3794689178466797, 0.8325397372245789], [-0.15915153920650482, -1.5571820735931396, 0.9382858872413635, -0.33193981647491455, -0.058942101895809174, 0.7782337069511414], [-0.9971407651901245, -0.5330331325531006, 0.5101544260978699, 0.6094461679458618, -0.7504101991653442, 0.07325735688209534], [-0.5564706921577454, -1.4154393672943115, -0.018265563994646072, 0.40489816665649414, -0.5210900902748108, 0.9575716853141785], [-0.1309358775615692, -1.7657244205474854, 0.929038941860199, 0.9016724824905396, 0.15890629589557648, 1.1285808086395264], [0.327928751707077, -0.9804721474647522, 0.34327197074890137, 0.14637300372123718, 1.3794689178466797, 0.8325419425964355], [-1.0241124629974365, -2.1134932041168213, -0.344168484210968, 1.5783565044403076, -0.05541782081127167, 2.3604371547698975], [-0.9971407651901245, -0.5337775945663452, 0.5036416053771973, 0.6104156970977783, -0.7528738379478455, 0.07142281532287598], [-0.5564706921577454, -1.4154393672943115, -0.01690600998699665, 0.4025411605834961, -0.5213184356689453, 0.9561986923217773], [-0.1309358775615692, -1.7657244205474854, 0.929038941860199, 0.9017472267150879, 0.15898644924163818, 1.128368616104126], [0.327928751707077, -0.9804721474647522, 0.34327197074890137, 0.14637300372123718, 1.3794426918029785, 0.8325315117835999], [-1.0241124629974365, -2.1134932041168213, -0.344168484210968, 1.5783565044403076, -0.05541782081127167, 2.3607237339019775], [0.517917275428772, -1.354863166809082, 0.870483934879303, -0.1442573368549347, 1.2306196689605713, 1.5871057510375977], [-0.5564706921577454, -1.4159042835235596, -0.019863830879330635, 0.39941146969795227, -0.5248317718505859, 0.9556122422218323], [-0.1309358775615692, -1.7657244205474854, 0.9277430176734924, 0.8939661383628845, 0.15826745331287384, 1.1281893253326416], [0.327928751707077, -0.9804721474647522, 0.34327197074890137, 0.1461883932352066, 1.3792667388916016, 0.8326253890991211], [-1.0241124629974365, -2.1134932041168213, -0.344168484210968, 1.5783565044403076, -0.05530153214931488, 2.3607444763183594], [0.517917275428772, -1.354863166809082, 0.870483934879303, -0.1442573368549347, 1.2306196689605713, 1.5871167182922363], [-0.1644599735736847, -2.4886109828948975, -1.0767793655395508, 0.5131201148033142, 0.11958105862140656, 1.8674607276916504], [-0.1309358775615692, -1.767007827758789, 0.9260185360908508, 0.8754661679267883, 0.16224220395088196, 1.1324231624603271], [0.327928751707077, -0.9804721474647522, 0.34285685420036316, 0.14591249823570251, 1.3792927265167236, 0.8329485058784485], [-1.0241124629974365, -2.1134932041168213, -0.344168484210968, 1.5782177448272705, -0.055372968316078186, 2.3607163429260254], [0.517917275428772, -1.354863166809082, 0.870483934879303, -0.1442573368549347, 1.2306151390075684, 1.587083101272583], [-0.1644599735736847, -2.4886109828948975, -1.0767793655395508, 0.5131201148033142, 0.11958105862140656, 1.8674585819244385], [-0.43616926670074463, -1.2652490139007568, -1.2359087467193604, 1.2816705703735352, 1.3968257904052734, -0.3151388168334961], [0.327928751707077, -0.9722713232040405, 0.3443448841571808, 0.1595797836780548, 1.3736579418182373, 0.8329236507415771], [-1.0241124629974365, -2.1134932041168213, -0.3438122868537903, 1.5778276920318604, -0.054445527493953705, 2.3616368770599365], [0.517917275428772, -1.354863166809082, 0.870483934879303, -0.1440204232931137, 1.2307937145233154, 1.5874629020690918], [-0.1644599735736847, -2.4886109828948975, -1.0767793655395508, 0.5131201148033142, 0.11964930593967438, 1.8674614429473877], [-0.43616926670074463, -1.2652490139007568, -1.2359087467193604, 1.2816705703735352, 1.3968257904052734, -0.31513655185699463], [-0.0639268085360527, -0.14243119955062866, -1.2340517044067383, 0.5210298895835876, 0.5475875735282898, 1.7295050621032715], [-1.0241124629974365, -2.1144297122955322, -0.3488287925720215, 1.5619022846221924, -0.05124259740114212, 2.3606581687927246], [0.517917275428772, -1.354863166809082, 0.8708955645561218, -0.14368700981140137, 1.2312686443328857, 1.5861561298370361], [-0.1644599735736847, -2.4886109828948975, -1.0767793655395508, 0.5131081938743591, 0.11933809518814087, 1.8668301105499268], [-0.43616926670074463, -1.2652490139007568, -1.2359087467193604, 1.2816705703735352, 1.3968243598937988, -0.3151647746562958], [-0.0639268085360527, -0.14243119955062866, -1.2340517044067383, 0.5210298895835876, 0.5475875735282898, 1.7295053005218506], [-0.407103955745697, -0.43582311272621155, -0.9351580739021301, 0.4584776759147644, 0.14528267085552216, 2.1347877979278564], [0.517917275428772, -1.345470666885376, 0.8687151074409485, -0.13913623988628387, 1.2296240329742432, 1.5883002281188965], [-0.1644599735736847, -2.4886109828948975, -1.0766515731811523, 0.5141077637672424, 0.11912289261817932, 1.869065523147583], [-0.43616926670074463, -1.2652490139007568, -1.2359087467193604, 1.2817480564117432, 1.3970227241516113, -0.3151434063911438], [-0.0639268085360527, -0.14243119955062866, -1.2340517044067383, 0.5210298895835876, 0.5475640892982483, 1.729435920715332], [-0.407103955745697, -0.43582311272621155, -0.9351580739021301, 0.4584776759147644, 0.14528267085552216, 2.135131597518921], [0.03802494704723358, -0.3655731678009033, -0.20664653182029724, 0.3255096673965454, -0.7860654592514038, 1.5228371620178223], [-0.1644599735736847, -2.4901838302612305, -1.0806362628936768, 0.5152896046638489, 0.11963239312171936, 1.8752117156982422], [-0.43616926670074463, -1.2652490139007568, -1.2364168167114258, 1.2842931747436523, 1.3979296684265137, -0.31567883491516113], [-0.0639268085360527, -0.14243119955062866, -1.2340517044067383, 0.5210030674934387, 0.5476140379905701, 1.7296936511993408], [-0.407103955745697, -0.43582311272621155, -0.9351580739021301, 0.4584776759147644, 0.14528295397758484, 2.1351585388183594], [0.03802494704723358, -0.3655731678009033, -0.20664653182029724, 0.3255096673965454, -0.7860654592514038, 1.5228371620178223], [-0.45599475502967834, -0.20696982741355896, -0.2896032929420471, 0.6859477162361145, 0.1534556746482849, 1.2345445156097412], [-0.43616926670074463, -1.2590296268463135, -1.2357490062713623, 1.296689510345459, 1.3973093032836914, -0.31556639075279236], [-0.0639268085360527, -0.14243119955062866, -1.2347025871276855, 0.5214146971702576, 0.5484306216239929, 1.7298181056976318], [-0.407103955745697, -0.43582311272621155, -0.9351580739021301, 0.4584747552871704, 0.14540180563926697, 2.135218381881714], [0.03802494704723358, -0.3655731678009033, -0.20664653182029724, 0.3255096673965454, -0.7860822081565857, 1.522806167602539], [-0.45599475502967834, -0.20696982741355896, -0.2896032929420471, 0.6859477162361145, 0.1534556746482849, 1.234546422958374], [0.1913214474916458, 0.3004598915576935, 0.7895722985267639, 0.7434865832328796, -0.928148090839386, 0.7761034369468689], [-0.0639268085360527, -0.13522088527679443, -1.2368042469024658, 0.5229641795158386, 0.5464070439338684, 1.7244763374328613], [-0.407103955745697, -0.43582311272621155, -0.9348748922348022, 0.45732298493385315, 0.1452057659626007, 2.1338138580322266], [0.03802494704723358, -0.3655731678009033, -0.20664653182029724, 0.3254857361316681, -0.7864183783531189, 1.5227577686309814], [-0.45599475502967834, -0.20696982741355896, -0.2896032929420471, 0.6859477162361145, 0.1536180078983307, 1.2345409393310547], [0.1913214474916458, 0.3004598915576935, 0.7895722985267639, 0.7434865832328796, -0.928148090839386, 0.7761017680168152], [-1.4828479290008545, -0.5119637846946716, 0.7620753645896912, 1.06083345413208, -0.15090066194534302, 0.40328332781791687], [-0.407103955745697, -0.446280300617218, -0.9336602687835693, 0.4597129821777344, 0.1483795940876007, 2.1361019611358643], [0.03802494704723358, -0.3655731678009033, -0.20639760792255402, 0.32580989599227905, -0.7876400351524353, 1.5222697257995605], [-0.45599475502967834, -0.20696982741355896, -0.2896032929420471, 0.6861542463302612, 0.1535361409187317, 1.2345943450927734], [0.1913214474916458, 0.3004598915576935, 0.7895722985267639, 0.7434865832328796, -0.9300764203071594, 0.7760986089706421], [-1.4828479290008545, -0.5119637846946716, 0.7620753645896912, 1.06083345413208, -0.15090066194534302, 0.4026186168193817], [-2.276658296585083, -0.6835934519767761, -0.1495400369167328, 0.37978875637054443, -0.40227967500686646, 0.6040214896202087], [0.03802494704723358, -0.35575127601623535, -0.19215652346611023, 0.3243280053138733, -0.7880575060844421, 1.520841121673584], [-0.45599475502967834, -0.20696982741355896, -0.2872430980205536, 0.6866095662117004, 0.15183624625205994, 1.2346522808074951], [0.1913214474916458, 0.3004598915576935, 0.7895722985267639, 0.7433519959449768, -0.9302383065223694, 0.7761982083320618], [-1.4828479290008545, -0.5119637846946716, 0.7620753645896912, 1.06083345413208, -0.15083569288253784, 0.4026245176792145], [-2.276658296585083, -0.6835934519767761, -0.1495400369167328, 0.37978875637054443, -0.40227967500686646, 0.6040791869163513], [-2.7079617977142334, 0.39057600498199463, -0.1913585662841797, -0.07310540974140167, 0.2381572127342224, 0.5849475264549255], [-0.45599475502967834, -0.20724326372146606, -0.29164308309555054, 0.6869666576385498, 0.15203073620796204, 1.2342979907989502], [0.1913214474916458, 0.3004598915576935, 0.7890255451202393, 0.7424823641777039, -0.9298978447914124, 0.7756556868553162], [-1.4828479290008545, -0.5119637846946716, 0.7620753645896912, 1.0609567165374756, -0.1508246213197708, 0.4026011824607849], [-2.276658296585083, -0.6835934519767761, -0.1495400369167328, 0.37978875637054443, -0.40208059549331665, 0.6040824055671692], [-2.7079617977142334, 0.39057600498199463, -0.1913585662841797, -0.07310540974140167, 0.2381572127342224, 0.5849787592887878], [-3.154491662979126, -0.4149738550186157, -0.386275053024292, -0.13866299390792847, -0.2934315502643585, 1.0160319805145264], [0.1913214474916458, 0.2818273603916168, 0.7897825837135315, 0.742973268032074, -0.919869601726532, 0.7773309350013733], [-1.4828479290008545, -0.5119637846946716, 0.7630946040153503, 1.0605826377868652, -0.15122327208518982, 0.40197521448135376], [-2.276658296585083, -0.6835934519767761, -0.1495400369167328, 0.3795689344406128, -0.40208899974823, 0.6040863394737244], [-2.7079617977142334, 0.39057600498199463, -0.1913585662841797, -0.07310540974140167, 0.2380087673664093, 0.5849793553352356], [-3.154491662979126, -0.4149738550186157, -0.386275053024292, -0.13866299390792847, -0.2934315502643585, 1.0161292552947998], [-2.5062808990478516, -0.5120948553085327, -0.33937525749206543, 0.09842805564403534, 0.48770278692245483, 1.9137015342712402], [-1.4828479290008545, -0.5097450613975525, 0.7679725289344788, 1.0737202167510986, -0.15228873491287231, 0.40154364705085754], [-2.276658296585083, -0.6835934519767761, -0.15094318985939026, 0.37671083211898804, -0.40158748626708984, 0.6046569347381592], [-2.7079617977142334, 0.39057600498199463, -0.1913585662841797, -0.07341136038303375, 0.2379906177520752, 0.5849603414535522], [-3.154491662979126, -0.4149738550186157, -0.386275053024292, -0.13866299390792847, -0.29363131523132324, 1.0162818431854248], [-2.5062808990478516, -0.5120948553085327, -0.33937525749206543, 0.09842805564403534, 0.48770278692245483, 1.913346529006958], [-0.9291462898254395, -0.143653005361557, -0.30207309126853943, 0.7083314657211304, -0.9282354712486267, 1.485426664352417], [-2.276658296585083, -0.6835615038871765, -0.13785001635551453, 0.3802240490913391, -0.40362071990966797, 0.6048532128334045], [-2.7079617977142334, 0.39057600498199463, -0.19299890100955963, -0.0734269991517067, 0.24031275510787964, 0.586971640586853], [-3.154491662979126, -0.4149738550186157, -0.386275053024292, -0.1391112506389618, -0.2933195233345032, 1.0165908336639404], [-2.5062808990478516, -0.5120948553085327, -0.33937525749206543, 0.09842805564403534, 0.4876142144203186, 1.913313627243042], [-0.9291462898254395, -0.143653005361557, -0.30207309126853943, 0.7083314657211304, -0.9282354712486267, 1.4856195449829102], [-1.3085224628448486, -0.4668368101119995, -0.6984202265739441, 0.09668727219104767, 0.6432597041130066, -0.7576534152030945], [-2.7079617977142334, 0.38954734802246094, -0.1912287473678589, -0.07668164372444153, 0.24634599685668945, 0.5922978520393372], [-3.154491662979126, -0.4149738550186157, -0.38596734404563904, -0.1379048228263855, -0.29345208406448364, 1.0158746242523193], [-2.5062808990478516, -0.5120948553085327, -0.33937525749206543, 0.0992552638053894, 0.4873036742210388, 1.9133687019348145], [-0.9291462898254395, -0.143653005361557, -0.30207309126853943, 0.7083314657211304, -0.9298231601715088, 1.4856493473052979], [-1.3085224628448486, -0.4668368101119995, -0.6984202265739441, 0.09668727219104767, 0.6432597041130066, -0.7593989372253418], [-0.8936979174613953, 0.26524877548217773, -0.4041846692562103, -1.0301055908203125, 0.7727092504501343, 2.269597291946411], [-3.154491662979126, -0.4237380027770996, -0.38668936491012573, -0.13441839814186096, -0.2952781021595001, 1.0180766582489014], [-2.5062808990478516, -0.5120948553085327, -0.33693891763687134, 0.09851089119911194, 0.48736125230789185, 1.9136807918548584], [-0.9291462898254395, -0.143653005361557, -0.30207309126853943, 0.7092759013175964, -0.929677426815033, 1.485564947128296], [-1.3085224628448486, -0.4668368101119995, -0.6984202265739441, 0.09668727219104767, 0.6432450413703918, -0.7594280242919922], [-0.8936979174613953, 0.26524877548217773, -0.4041846692562103, -1.0301055908203125, 0.7727092504501343, 2.2696449756622314], [-1.5562984943389893, 0.937971293926239, -0.33228814601898193, -0.05678712949156761, 0.780036211013794, 1.5374059677124023], [-2.5062808990478516, -0.5170032978057861, -0.33580052852630615, 0.10150477290153503, 0.4922524094581604, 1.9099853038787842], [-0.9291462898254395, -0.143653005361557, -0.30086082220077515, 0.7106475234031677, -0.9291993379592896, 1.4853997230529785], [-1.3085224628448486, -0.4668368101119995, -0.6984202265739441, 0.09748846292495728, 0.6434248685836792, -0.7596039175987244], [-0.8936979174613953, 0.26524877548217773, -0.4041846692562103, -1.0301055908203125, 0.772891104221344, 2.2696492671966553], [-1.5562984943389893, 0.937971293926239, -0.33228814601898193, -0.05678712949156761, 0.780036211013794, 1.5373148918151855], [-0.5348750948905945, 0.5106791257858276, 0.6093305945396423, -0.753030002117157, 0.07709935307502747, 1.0704600811004639], [-0.9291462898254395, -0.139015793800354, -0.29773300886154175, 0.6988222599029541, -0.920778214931488, 1.4844670295715332], [-1.3085224628448486, -0.4668368101119995, -0.6986899971961975, 0.09725433588027954, 0.6422951817512512, -0.758187472820282], [-0.8936979174613953, 0.26524877548217773, -0.4041846692562103, -1.030116319656372, 0.7727236747741699, 2.2698209285736084], [-1.5562984943389893, 0.937971293926239, -0.33228814601898193, -0.05678712949156761, 0.7800564169883728, 1.5373170375823975], [-0.5348750948905945, 0.5106791257858276, 0.6093305945396423, -0.753030002117157, 0.07709935307502747, 1.0703444480895996], [-1.4115009307861328, -0.017288245260715485, 0.4038733243942261, -0.5210440158843994, 0.9577766060829163, 0.14798644185066223], [-1.3085224628448486, -0.46103140711784363, -0.7008700966835022, 0.09507709741592407, 0.6425337791442871, -0.7556844353675842], [-0.8936979174613953, 0.26524877548217773, -0.4024656414985657, -1.029676914215088, 0.7733654379844666, 2.2703001499176025], [-1.5562984943389893, 0.937971293926239, -0.33228814601898193, -0.057159341871738434, 0.7799004912376404, 1.5372169017791748], [-0.5348750948905945, 0.5106791257858276, 0.6093305945396423, -0.753030002117157, 0.07824786007404327, 1.0703072547912598], [-1.4115009307861328, -0.017288245260715485, 0.4038733243942261, -0.5210440158843994, 0.9577766060829163, 0.1485327184200287], [-1.7686972618103027, 0.9281312227249146, 0.9016707539558411, 0.1593136340379715, 1.12860107421875, -0.161779522895813], [-0.8936979174613953, 0.26974788308143616, -0.40255653858184814, -1.011369228363037, 0.7716377377510071, 2.268732786178589], [0, 0.937971293926239, -0.33233126997947693, -0.05844173580408096, 0.7787140607833862, 1.53712797164917], [0, 0, 0.6093305945396423, -0.7520250082015991, 0.07743509113788605, 1.0704312324523926], [0, 0, 0, -0.5210440158843994, 0.957682192325592, 0.14861556887626648], [0, 0, 0, 0, 1.12860107421875, -0.16187536716461182], [0, 0, 0, 0, 0, -0.5360094308853149]]\n"
          ],
          "name": "stdout"
        }
      ]
    },
    {
      "cell_type": "code",
      "metadata": {
        "id": "fnQKIDnIJtrR",
        "colab_type": "code",
        "outputId": "18a52750-e671-44e8-dbe3-fc9acdb8cce3",
        "colab": {
          "base_uri": "https://localhost:8080/",
          "height": 320
        }
      },
      "source": [
        "mean = np.mean(np.sum(processed, axis=1))\n",
        "std = np.std(np.sum(processed, axis=1))\n",
        "normalized = (np.sum(processed, axis=1) - mean) / std\n",
        "\n",
        "plt.plot(input_data)\n",
        "plt.plot(normalized.tolist())\n",
        "plt.title('I just want to make sure we are on the right path')"
      ],
      "execution_count": 0,
      "outputs": [
        {
          "output_type": "execute_result",
          "data": {
            "text/plain": [
              "Text(0.5, 1.0, 'I just want to make sure we are on the right path')"
            ]
          },
          "metadata": {
            "tags": []
          },
          "execution_count": 59
        },
        {
          "output_type": "display_data",
          "data": {
            "image/png": "[encoded data removed]",
            "text/plain": [
              "<Figure size 432x288 with 1 Axes>"
            ]
          },
          "metadata": {
            "tags": []
          }
        }
      ]
    }
  ]
}